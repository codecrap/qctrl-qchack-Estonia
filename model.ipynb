{
 "cells": [
  {
   "cell_type": "code",
   "execution_count": 8,
   "id": "61b5710b",
   "metadata": {},
   "outputs": [],
   "source": [
    "import matplotlib.pyplot as plt\n",
    "import numpy as np\n",
    "from qctrlvisualizer import get_qctrl_style, plot_controls\n",
    "\n",
    "from qctrl import Qctrl\n",
    "\n",
    "plt.style.use(get_qctrl_style())\n",
    "\n",
    "# Sparse matrix imports\n",
    "from scipy.sparse import coo_matrix\n",
    "\n",
    "# Starting a session with the API\n",
    "qctrl = Qctrl()\n",
    "\n",
    "\n",
    "sigma_x = np.array([[0, 1], [1, 0]])\n",
    "sigma_z = np.array([[1, 0], [0, -1]])\n",
    "sigma_y = np.array([[0, -1j], [1j, 0]])"
   ]
  },
  {
   "cell_type": "markdown",
   "id": "f5efa722",
   "metadata": {},
   "source": [
    "Optimizer"
   ]
  },
  {
   "cell_type": "code",
   "execution_count": 49,
   "id": "da8e4705",
   "metadata": {},
   "outputs": [],
   "source": [
    "def optimize_pulse(H, nodes, noise, target_operation):\n",
    "    infidelity = qctrl.operations.infidelity_pwc(\n",
    "        hamiltonian=H,\n",
    "        noise_operators=noise,\n",
    "        target_operator=target_operation,\n",
    "        name=\"infidelity\",\n",
    "    )\n",
    "    optimization_result = qctrl.functions.calculate_optimization(\n",
    "        cost_node_name=\"infidelity\",\n",
    "        output_node_names=nodes,\n",
    "        graph=graph,\n",
    "    )\n",
    "    \n",
    "    return optimization_result"
   ]
  },
  {
   "cell_type": "markdown",
   "id": "e2f986a5",
   "metadata": {},
   "source": [
    "Ideal simulation"
   ]
  },
  {
   "cell_type": "code",
   "execution_count": 3,
   "id": "1ce4c27e",
   "metadata": {},
   "outputs": [],
   "source": [
    "def simulate_ideal_qubit(duration, values, shots, repetitions):\n",
    "    b = np.array([[0, 1], [0, 0]])  # Lowering operator\n",
    "    initial_state = np.array([[1], [0]])  # Initial state of qubit in |0>\n",
    "\n",
    "    with qctrl.create_graph() as graph:\n",
    "        drive = qctrl.operations.pwc_signal(duration=duration, values=values)\n",
    "        hamiltonian = qctrl.operations.pwc_operator_hermitian_part(\n",
    "            qctrl.operations.pwc_operator(signal=drive, operator=b)\n",
    "        )\n",
    "        unitary = qctrl.operations.time_evolution_operators_pwc(\n",
    "            hamiltonian=hamiltonian,\n",
    "            sample_times=np.array([duration]),\n",
    "        )[-1]\n",
    "        unitary.name = \"unitary\"\n",
    "\n",
    "        repeated_unitary = np.eye(2)\n",
    "        for _ in range(repetitions):\n",
    "            repeated_unitary = repeated_unitary @ unitary\n",
    "        repeated_unitary.name = \"repeated_unitary\"\n",
    "\n",
    "        state = repeated_unitary @ initial_state\n",
    "\n",
    "        populations = qctrl.operations.abs(state[:, 0]) ** 2\n",
    "        norm = qctrl.operations.sum(populations)\n",
    "        populations = populations / norm\n",
    "        populations.name = \"populations\"\n",
    "\n",
    "        result = qctrl.functions.calculate_graph(\n",
    "            graph=graph,\n",
    "            output_node_names=[\"unitary\", \"repeated_unitary\", \"populations\"],\n",
    "        )\n",
    "\n",
    "    unitary = result.output[\"unitary\"][\"value\"]\n",
    "    repeated_unitary = result.output[\"repeated_unitary\"][\"value\"]\n",
    "    populations = result.output[\"populations\"][\"value\"]\n",
    "\n",
    "    measurements = np.random.choice(2, size=shots, p=populations)\n",
    "\n",
    "    results = {\"unitary\": unitary, \"measurements\": measurements}\n",
    "\n",
    "    return results"
   ]
  },
  {
   "cell_type": "markdown",
   "id": "37b65554",
   "metadata": {},
   "source": [
    "Ideal qubit, only drive:"
   ]
  },
  {
   "cell_type": "code",
   "execution_count": 4,
   "id": "522a19d0",
   "metadata": {},
   "outputs": [
    {
     "data": {
      "application/vnd.jupyter.widget-view+json": {
       "model_id": "",
       "version_major": 2,
       "version_minor": 0
      },
      "text/plain": [
       "  0%|          | 0/100 [00:00<?, ?it/s]"
      ]
     },
     "metadata": {},
     "output_type": "display_data"
    },
    {
     "name": "stdout",
     "output_type": "stream",
     "text": [
      "Your task calculate_optimization has started.\n",
      "Your task calculate_optimization has completed in 6s.\n"
     ]
    }
   ],
   "source": [
    "duration = 5\n",
    "segment_count = 10\n",
    "\n",
    "with qctrl.create_graph() as graph:\n",
    "    #Drive\n",
    "    b = np.array([[0, 1], [0, 0]])  # Lowering operator\n",
    "    gamma = qctrl.operations.complex_pwc_signal(\n",
    "        moduli=qctrl.operations.anchored_difference_bounded_variables(\n",
    "            count=segment_count,\n",
    "            lower_bound=-1,\n",
    "            upper_bound=1,\n",
    "            difference_bound=0.5,\n",
    "        ),\n",
    "        phases=qctrl.operations.unbounded_optimization_variable(\n",
    "            count=segment_count,\n",
    "            initial_lower_bound=0,\n",
    "            initial_upper_bound=2 * np.pi,\n",
    "        ),\n",
    "        duration=duration,\n",
    "        name=\"gamma\",\n",
    "    )\n",
    "    drive = qctrl.operations.pwc_operator_hermitian_part(\n",
    "        qctrl.operations.pwc_operator(signal=gamma, operator=b)\n",
    "    )\n",
    "    \n",
    "    # Hadamard gate\n",
    "    ideal_h_gate = (1 / np.sqrt(2)) * np.array([[1, 1], [1, -1]])\n",
    "    ideal_not = np.array([[0,1], [1,0]])\n",
    "    target_op = qctrl.operations.target(operator=ideal_not)\n",
    "\n",
    "    \n",
    "    H = qctrl.operations.pwc_sum([drive])\n",
    "\n",
    "    #target_op = qctrl.operations.target(operator=target_op)\n",
    "\n",
    "    optimization_result = optimize_pulse(H, [\"gamma\"], [], target_op)"
   ]
  },
  {
   "cell_type": "markdown",
   "id": "3f9e3de7",
   "metadata": {},
   "source": [
    "Check pulse"
   ]
  },
  {
   "cell_type": "code",
   "execution_count": 5,
   "id": "52febb08",
   "metadata": {},
   "outputs": [
    {
     "data": {
      "image/png": "[encoded data removed]",
      "text/plain": [
       "<Figure size 504x288 with 2 Axes>"
      ]
     },
     "metadata": {
      "needs_background": "light"
     },
     "output_type": "display_data"
    }
   ],
   "source": [
    "plot_controls(\n",
    "    plt.figure(),\n",
    "    controls={\n",
    "        \"$\\\\gamma$\": optimization_result.output[\"gamma\"],\n",
    "    },\n",
    ")\n",
    "plt.show()"
   ]
  },
  {
   "cell_type": "markdown",
   "id": "51fcd42f",
   "metadata": {},
   "source": [
    "Simulate with ideal qubit"
   ]
  },
  {
   "cell_type": "code",
   "execution_count": 6,
   "id": "c93629bc",
   "metadata": {},
   "outputs": [
    {
     "data": {
      "application/vnd.jupyter.widget-view+json": {
       "model_id": "",
       "version_major": 2,
       "version_minor": 0
      },
      "text/plain": [
       "  0%|          | 0/100 [00:00<?, ?it/s]"
      ]
     },
     "metadata": {},
     "output_type": "display_data"
    },
    {
     "name": "stdout",
     "output_type": "stream",
     "text": [
      "Your task calculate_graph has completed in 3s.\n",
      "0.0\n"
     ]
    }
   ],
   "source": [
    "IQ = np.array([o.get(\"value\") for o in optimization_result.output[\"gamma\"]])\n",
    "\n",
    "shots = 3000\n",
    "\n",
    "IQ = np.array(list(IQ) + list(IQ))\n",
    "\n",
    "result = simulate_ideal_qubit(duration, IQ, shots, 1)\n",
    "print(sum(result.get(\"measurements\"))/shots)"
   ]
  },
  {
   "cell_type": "markdown",
   "id": "713d2b6f",
   "metadata": {},
   "source": [
    "## \"Real\" device"
   ]
  },
  {
   "cell_type": "markdown",
   "id": "cf031d80",
   "metadata": {},
   "source": [
    "Fuction to test on simulation"
   ]
  },
  {
   "cell_type": "code",
   "execution_count": 7,
   "id": "3b1b3d56",
   "metadata": {},
   "outputs": [],
   "source": [
    "def test_IQ(IQ, duration, segments, shot_count):\n",
    "    controls = []\n",
    "    values = IQ\n",
    "    control_seq = {\n",
    "        \"duration\": 10, \n",
    "        \"values\":values,\n",
    "        \"repetition_count\": 1\n",
    "    }\n",
    "    controls.append(control_seq)\n",
    "    plot_controls(\n",
    "        figure=plt.figure(),\n",
    "        controls={\n",
    "            \"$\\Omega$\": [\n",
    "                {\"duration\": duration/segments, \"value\": value} for value in values\n",
    "            ]\n",
    "        },\n",
    "    )\n",
    "    \n",
    "    experiment_results = qctrl.functions.calculate_qchack_measurements(\n",
    "        controls=controls,\n",
    "        shot_count=shot_count,\n",
    "    )\n",
    "    \n",
    "    return experiment_results.measurements"
   ]
  },
  {
   "cell_type": "markdown",
   "id": "664f7119",
   "metadata": {},
   "source": [
    "Function that runs the optimizer based on the model, change values in the beginning depending on model"
   ]
  },
  {
   "cell_type": "code",
   "execution_count": 51,
   "id": "93ee0153",
   "metadata": {},
   "outputs": [
    {
     "data": {
      "application/vnd.jupyter.widget-view+json": {
       "model_id": "",
       "version_major": 2,
       "version_minor": 0
      },
      "text/plain": [
       "  0%|          | 0/100 [00:00<?, ?it/s]"
      ]
     },
     "metadata": {},
     "output_type": "display_data"
    },
    {
     "name": "stdout",
     "output_type": "stream",
     "text": [
      "Your task calculate_optimization has started.\n",
      "Your task calculate_optimization has completed in 15s.\n",
      "Optimized cost:\t 2.388161423516821e-05\n"
     ]
    },
    {
     "data": {
      "application/vnd.jupyter.widget-view+json": {
       "model_id": "",
       "version_major": 2,
       "version_minor": 0
      },
      "text/plain": [
       "  0%|          | 0/100 [00:00<?, ?it/s]"
      ]
     },
     "metadata": {},
     "output_type": "display_data"
    },
    {
     "name": "stdout",
     "output_type": "stream",
     "text": [
      "Your task calculate_qchack_measurements has completed in 3s.\n",
      "0.4816666666666667\n"
     ]
    },
    {
     "data": {
      "image/png": "[encoded data removed]",
      "text/plain": [
       "<Figure size 504x288 with 2 Axes>"
      ]
     },
     "metadata": {
      "needs_background": "light"
     },
     "output_type": "display_data"
    }
   ],
   "source": [
    "shot_count = 3000\n",
    "\n",
    "duration = 100\n",
    "segment_count = 10\n",
    "const_X_ampl = 0.01\n",
    "const_Y_ampl = 0.01\n",
    "const_Z_ampl = 0.1\n",
    "sigma = 0.5\n",
    "mu = 31.65\n",
    "\n",
    "T1 = 0.01\n",
    "T2 = 0.1\n",
    "\n",
    "with qctrl.create_graph() as graph:\n",
    "    #Drive\n",
    "    b = np.array([[0, 1], [0, 0]])  # Lowering operator\n",
    "\n",
    "    gamma = qctrl.operations.complex_pwc_signal(\n",
    "        #moduli=drive_mod_filtered,\n",
    "        moduli=qctrl.operations.anchored_difference_bounded_variables(\n",
    "            count=segment_count,\n",
    "            lower_bound=-1,\n",
    "            upper_bound=1,\n",
    "            difference_bound=0.5,\n",
    "        ),\n",
    "        phases=qctrl.operations.unbounded_optimization_variable(\n",
    "            count=segment_count,\n",
    "            initial_lower_bound=0,\n",
    "            initial_upper_bound=2 * np.pi,\n",
    "        ),\n",
    "        duration=duration,\n",
    "        name=\"gamma\",\n",
    "    )\n",
    "\n",
    "    drive_filtered = qctrl.operations.convolve_pwc(\n",
    "        gamma,\n",
    "        qctrl.operations.gaussian_integral_function(std=sigma, offset=mu),\n",
    "    )\n",
    "\n",
    "    drive_disc = qctrl.operations.discretize_stf(\n",
    "            drive_filtered, duration=duration, segments_count=segment_count\n",
    "        )\n",
    "\n",
    "    drive = qctrl.operations.pwc_operator_hermitian_part(\n",
    "        qctrl.operations.pwc_operator(signal=gamma, operator=b)\n",
    "    )\n",
    "\n",
    "    # Const x\n",
    "    const_X = qctrl.operations.constant_pwc_operator(\n",
    "        duration=duration,\n",
    "        operator=const_X_ampl * sigma_x / 2,\n",
    "    )\n",
    "\n",
    "    # Const z\n",
    "    const_Z = qctrl.operations.constant_pwc_operator(\n",
    "        duration=duration,\n",
    "        operator=const_Z_ampl * sigma_z / 2,\n",
    "    )\n",
    "\n",
    "    # Const y\n",
    "    const_Y = qctrl.operations.constant_pwc_operator(\n",
    "        duration=duration,\n",
    "        operator=const_Y_ampl * sigma_y / 2,\n",
    "    )\n",
    "\n",
    "\n",
    "    # T2\n",
    "    dephasing = qctrl.operations.constant_pwc_operator(\n",
    "        duration=duration, operator=T2 * sigma_z / duration\n",
    "    )\n",
    "\n",
    "    # T1\n",
    "    depolarisation = qctrl.operations.constant_pwc_operator(\n",
    "        duration=duration, operator=T1 * b\n",
    "    )\n",
    "\n",
    "    # taget gate matrices\n",
    "    ideal_h_gate = (1 / np.sqrt(2)) * np.array([[1, 1], [1, -1]])\n",
    "    ideal_not = np.array([[0, 1], [1, 0]])\n",
    "\n",
    "    #target_op = qctrl.operations.target(operator=ideal_not)\n",
    "    target_op = qctrl.operations.target(operator=ideal_h_gate)\n",
    "\n",
    "\n",
    "    H = qctrl.operations.pwc_sum([drive, const_X, const_Y, const_Z])\n",
    "\n",
    "    optimization_result = optimize_pulse(H, [\"gamma\"], [dephasing, depolarisation], target_op)\n",
    "    print(\"Optimized cost:\\t\", optimization_result.cost)\n",
    "\n",
    "# IQ - the np.array of IQ values\n",
    "IQ = np.array([o.get(\"value\") for o in optimization_result.output[\"gamma\"]])\n",
    "results = test_IQ(IQ, duration, segment_count, shot_count)\n",
    "print(sum(results[0])/shot_count)"
   ]
  },
  {
   "cell_type": "markdown",
   "id": "3cb167e6",
   "metadata": {},
   "source": [
    "To check the same pulses again without running the optimizer"
   ]
  },
  {
   "cell_type": "code",
   "execution_count": 57,
   "id": "676d8727",
   "metadata": {},
   "outputs": [
    {
     "data": {
      "application/vnd.jupyter.widget-view+json": {
       "model_id": "",
       "version_major": 2,
       "version_minor": 0
      },
      "text/plain": [
       "  0%|          | 0/100 [00:00<?, ?it/s]"
      ]
     },
     "metadata": {},
     "output_type": "display_data"
    },
    {
     "name": "stdout",
     "output_type": "stream",
     "text": [
      "Your task calculate_qchack_measurements has completed in 3s.\n",
      "0.5093333333333333\n"
     ]
    }
   ],
   "source": [
    "shot_count = 3000\n",
    "def test_IQ(IQ, dur, seg, shot_count):\n",
    "    controls = []\n",
    "    values = IQ\n",
    "    control_seq = {\n",
    "        \"duration\": dur, \n",
    "        \"values\":values,\n",
    "        \"repetition_count\": 1\n",
    "    }\n",
    "    controls.append(control_seq)\n",
    "    \n",
    "    \n",
    "    experiment_results = qctrl.functions.calculate_qchack_measurements(\n",
    "        controls=controls,\n",
    "        shot_count=shot_count,\n",
    "    )\n",
    "    \n",
    "    return experiment_results.measurements\n",
    "\n",
    "\n",
    "results = test_IQ(IQ, duration, segment_count, shot_count)\n",
    "print(sum(results[0])/shot_count)"
   ]
  }
 ],
 "metadata": {
  "kernelspec": {
   "display_name": "qchack",
   "language": "python",
   "name": "qchack"
  },
  "language_info": {
   "codemirror_mode": {
    "name": "ipython",
    "version": 3
   },
   "file_extension": ".py",
   "mimetype": "text/x-python",
   "name": "python",
   "nbconvert_exporter": "python",
   "pygments_lexer": "ipython3",
   "version": "3.8.2"
  }
 },
 "nbformat": 4,
 "nbformat_minor": 5
}
